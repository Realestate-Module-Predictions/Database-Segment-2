{
 "cells": [
  {
   "cell_type": "markdown",
   "id": "dba25d76",
   "metadata": {},
   "source": [
    "# Exploratory Analysis and Visualization"
   ]
  },
  {
   "cell_type": "code",
   "execution_count": 1,
   "id": "0140da77",
   "metadata": {},
   "outputs": [],
   "source": [
    "# Importing of dependencies required for analysis\n",
    "import pandas as pd\n",
    "import sklearn as skl\n",
    "import tensorflow as tf\n",
    "from sklearn.model_selection import train_test_split\n",
    "from sklearn.preprocessing import StandardScaler,OrdinalEncoder\n",
    "import requests\n",
    "import urllib.parse\n",
    "import datetime\n",
    "import time\n",
    "from sklearn import metrics\n",
    "import numpy as np\n",
    "import matplotlib.pyplot as plt\n",
    "\n"
   ]
  },
  {
   "cell_type": "code",
   "execution_count": 2,
   "id": "42a0788b",
   "metadata": {},
   "outputs": [
    {
     "name": "stderr",
     "output_type": "stream",
     "text": [
      "/opt/anaconda3/envs/mlenv/lib/python3.7/site-packages/psycopg2/__init__.py:144: UserWarning: The psycopg2 wheel package will be renamed from release 2.8; in order to keep installing from binary please use \"pip install psycopg2-binary\" instead. For details see: <http://initd.org/psycopg/docs/install.html#binary-install-from-pypi>.\n",
      "  \"\"\")\n"
     ]
    }
   ],
   "source": [
    "# Read in table of data from PGADMIN or connected database\n",
    "\n",
    "from sqlalchemy import create_engine\n",
    "#import library psycopyg2\n",
    "import psycopg2\n",
    "#import library sqlio\n",
    "import pandas.io.sql as sqlio\n",
    "\n",
    "# Postgres username, password, and database name\n",
    "POSTGRES_ADDRESS = 'db1-realestate-prediction.cc3utfionj0h.us-east-2.rds.amazonaws.com' ## INSERT YOUR DB ADDRESS\n",
    "POSTGRES_PORT = '5432'\n",
    "POSTGRES_USERNAME = 'realestate'\n",
    "POSTGRES_PASSWORD = '12345678'\n",
    "POSTGRES_DBNAME = 'postgres'\n",
    "\n",
    "#create database connection variable \n",
    "conn = psycopg2.connect(user=POSTGRES_USERNAME, password=POSTGRES_PASSWORD, host=POSTGRES_ADDRESS, database=POSTGRES_DBNAME)"
   ]
  },
  {
   "cell_type": "code",
   "execution_count": 3,
   "id": "04a6545b",
   "metadata": {},
   "outputs": [
    {
     "data": {
      "text/html": [
       "<div>\n",
       "<style scoped>\n",
       "    .dataframe tbody tr th:only-of-type {\n",
       "        vertical-align: middle;\n",
       "    }\n",
       "\n",
       "    .dataframe tbody tr th {\n",
       "        vertical-align: top;\n",
       "    }\n",
       "\n",
       "    .dataframe thead th {\n",
       "        text-align: right;\n",
       "    }\n",
       "</style>\n",
       "<table border=\"1\" class=\"dataframe\">\n",
       "  <thead>\n",
       "    <tr style=\"text-align: right;\">\n",
       "      <th></th>\n",
       "      <th>municipality</th>\n",
       "      <th>community</th>\n",
       "      <th>list_price</th>\n",
       "      <th>sold_price</th>\n",
       "      <th>type</th>\n",
       "      <th>style</th>\n",
       "      <th>br</th>\n",
       "      <th>er</th>\n",
       "      <th>wr</th>\n",
       "      <th>fr</th>\n",
       "      <th>kitchen</th>\n",
       "      <th>gar_type</th>\n",
       "      <th>ac</th>\n",
       "      <th>heat</th>\n",
       "      <th>contract_date</th>\n",
       "      <th>mls_id</th>\n",
       "      <th>address</th>\n",
       "      <th>lat</th>\n",
       "      <th>lng</th>\n",
       "    </tr>\n",
       "  </thead>\n",
       "  <tbody>\n",
       "    <tr>\n",
       "      <th>0</th>\n",
       "      <td>Toronto C00</td>\n",
       "      <td>Niagara</td>\n",
       "      <td>699999.0</td>\n",
       "      <td>780000.0</td>\n",
       "      <td>Att/Row/Townhouse</td>\n",
       "      <td>2-Storey</td>\n",
       "      <td>3.0</td>\n",
       "      <td>0.0</td>\n",
       "      <td>1.0</td>\n",
       "      <td>N</td>\n",
       "      <td>1.0</td>\n",
       "      <td>None</td>\n",
       "      <td>Central Air</td>\n",
       "      <td>Gas</td>\n",
       "      <td>2021-01-13</td>\n",
       "      <td>C5083064</td>\n",
       "      <td>793 Adelaide St W, Toronto</td>\n",
       "      <td>43.643807</td>\n",
       "      <td>-79.409426</td>\n",
       "    </tr>\n",
       "    <tr>\n",
       "      <th>1</th>\n",
       "      <td>Toronto C01</td>\n",
       "      <td>University</td>\n",
       "      <td>799000.0</td>\n",
       "      <td>1225000.0</td>\n",
       "      <td>Semi-Detached</td>\n",
       "      <td>2-Storey</td>\n",
       "      <td>3.0</td>\n",
       "      <td>0.0</td>\n",
       "      <td>2.0</td>\n",
       "      <td>Y</td>\n",
       "      <td>2.0</td>\n",
       "      <td>None</td>\n",
       "      <td>None</td>\n",
       "      <td>Gas</td>\n",
       "      <td>2020-05-29</td>\n",
       "      <td>C4773721</td>\n",
       "      <td>75 Major St, Toronto</td>\n",
       "      <td>43.659648</td>\n",
       "      <td>-79.403456</td>\n",
       "    </tr>\n",
       "    <tr>\n",
       "      <th>2</th>\n",
       "      <td>Toronto C01</td>\n",
       "      <td>University</td>\n",
       "      <td>799000.0</td>\n",
       "      <td>1203000.0</td>\n",
       "      <td>Semi-Detached</td>\n",
       "      <td>2-Storey</td>\n",
       "      <td>3.0</td>\n",
       "      <td>1.0</td>\n",
       "      <td>3.0</td>\n",
       "      <td>N</td>\n",
       "      <td>2.0</td>\n",
       "      <td>None</td>\n",
       "      <td>None</td>\n",
       "      <td>Gas</td>\n",
       "      <td>2020-11-05</td>\n",
       "      <td>C4979474</td>\n",
       "      <td>81 Major St, Toronto</td>\n",
       "      <td>43.659777</td>\n",
       "      <td>-79.403505</td>\n",
       "    </tr>\n",
       "    <tr>\n",
       "      <th>3</th>\n",
       "      <td>Toronto C01</td>\n",
       "      <td>Niagara</td>\n",
       "      <td>899000.0</td>\n",
       "      <td>959000.0</td>\n",
       "      <td>Att/Row/Townhouse</td>\n",
       "      <td>2-Storey</td>\n",
       "      <td>3.0</td>\n",
       "      <td>0.0</td>\n",
       "      <td>2.0</td>\n",
       "      <td>Y</td>\n",
       "      <td>1.0</td>\n",
       "      <td>None</td>\n",
       "      <td>Central Air</td>\n",
       "      <td>Gas</td>\n",
       "      <td>2020-09-22</td>\n",
       "      <td>C4923168</td>\n",
       "      <td>784 Adelaide St W, Toronto</td>\n",
       "      <td>43.644117</td>\n",
       "      <td>-79.409249</td>\n",
       "    </tr>\n",
       "    <tr>\n",
       "      <th>4</th>\n",
       "      <td>Toronto C01</td>\n",
       "      <td>Niagara</td>\n",
       "      <td>899000.0</td>\n",
       "      <td>1073000.0</td>\n",
       "      <td>Att/Row/Townhouse</td>\n",
       "      <td>2-Storey</td>\n",
       "      <td>2.0</td>\n",
       "      <td>0.0</td>\n",
       "      <td>2.0</td>\n",
       "      <td>N</td>\n",
       "      <td>1.0</td>\n",
       "      <td>None</td>\n",
       "      <td>Central Air</td>\n",
       "      <td>Gas</td>\n",
       "      <td>2020-11-10</td>\n",
       "      <td>C4985281</td>\n",
       "      <td>16 Whitaker Ave, Toronto</td>\n",
       "      <td>43.643948</td>\n",
       "      <td>-79.406457</td>\n",
       "    </tr>\n",
       "    <tr>\n",
       "      <th>...</th>\n",
       "      <td>...</td>\n",
       "      <td>...</td>\n",
       "      <td>...</td>\n",
       "      <td>...</td>\n",
       "      <td>...</td>\n",
       "      <td>...</td>\n",
       "      <td>...</td>\n",
       "      <td>...</td>\n",
       "      <td>...</td>\n",
       "      <td>...</td>\n",
       "      <td>...</td>\n",
       "      <td>...</td>\n",
       "      <td>...</td>\n",
       "      <td>...</td>\n",
       "      <td>...</td>\n",
       "      <td>...</td>\n",
       "      <td>...</td>\n",
       "      <td>...</td>\n",
       "      <td>...</td>\n",
       "    </tr>\n",
       "    <tr>\n",
       "      <th>30713</th>\n",
       "      <td>Toronto W10</td>\n",
       "      <td>Thistletown-Beaumonde Heights</td>\n",
       "      <td>1299900.0</td>\n",
       "      <td>1300000.0</td>\n",
       "      <td>Detached</td>\n",
       "      <td>1 1/2 Storey</td>\n",
       "      <td>4.0</td>\n",
       "      <td>2.0</td>\n",
       "      <td>3.0</td>\n",
       "      <td>N</td>\n",
       "      <td>1.0</td>\n",
       "      <td>Attached</td>\n",
       "      <td>Central Air</td>\n",
       "      <td>Gas</td>\n",
       "      <td>2021-10-03</td>\n",
       "      <td>W5391840</td>\n",
       "      <td>8 Wardlaw Cres, Toronto</td>\n",
       "      <td>43.739635</td>\n",
       "      <td>-79.565621</td>\n",
       "    </tr>\n",
       "    <tr>\n",
       "      <th>30714</th>\n",
       "      <td>Toronto W10</td>\n",
       "      <td>Thistletown-Beaumonde Heights</td>\n",
       "      <td>1349000.0</td>\n",
       "      <td>1365000.0</td>\n",
       "      <td>Detached</td>\n",
       "      <td>Backsplit</td>\n",
       "      <td>4.0</td>\n",
       "      <td>1.0</td>\n",
       "      <td>2.0</td>\n",
       "      <td>N</td>\n",
       "      <td>1.0</td>\n",
       "      <td>Attached</td>\n",
       "      <td>Central Air</td>\n",
       "      <td>Gas</td>\n",
       "      <td>2021-11-12</td>\n",
       "      <td>W5430335</td>\n",
       "      <td>156 Thistle Down Blvd, Toronto</td>\n",
       "      <td>43.740987</td>\n",
       "      <td>-79.550545</td>\n",
       "    </tr>\n",
       "    <tr>\n",
       "      <th>30715</th>\n",
       "      <td>Toronto W10</td>\n",
       "      <td>West Humber-Clairville</td>\n",
       "      <td>1599900.0</td>\n",
       "      <td>1600000.0</td>\n",
       "      <td>Detached</td>\n",
       "      <td>2-Storey</td>\n",
       "      <td>4.0</td>\n",
       "      <td>0.0</td>\n",
       "      <td>4.0</td>\n",
       "      <td>Y</td>\n",
       "      <td>1.0</td>\n",
       "      <td>Attached</td>\n",
       "      <td>Central Air</td>\n",
       "      <td>Gas</td>\n",
       "      <td>2021-12-17</td>\n",
       "      <td>W5458498</td>\n",
       "      <td>11 Woodlot Cres, Toronto</td>\n",
       "      <td>43.732902</td>\n",
       "      <td>-79.614069</td>\n",
       "    </tr>\n",
       "    <tr>\n",
       "      <th>30716</th>\n",
       "      <td>Toronto W10</td>\n",
       "      <td>Thistletown-Beaumonde Heights</td>\n",
       "      <td>1750000.0</td>\n",
       "      <td>1850000.0</td>\n",
       "      <td>Detached</td>\n",
       "      <td>Backsplit</td>\n",
       "      <td>5.0</td>\n",
       "      <td>0.0</td>\n",
       "      <td>4.0</td>\n",
       "      <td>Y</td>\n",
       "      <td>1.0</td>\n",
       "      <td>Attached</td>\n",
       "      <td>Central Air</td>\n",
       "      <td>Gas</td>\n",
       "      <td>2021-12-02</td>\n",
       "      <td>W5447590</td>\n",
       "      <td>16 Forest Path Crt, Toronto</td>\n",
       "      <td>43.741928</td>\n",
       "      <td>-79.555623</td>\n",
       "    </tr>\n",
       "    <tr>\n",
       "      <th>30717</th>\n",
       "      <td>Toronto W10</td>\n",
       "      <td>Elms-Old Rexdale</td>\n",
       "      <td>2213888.0</td>\n",
       "      <td>2213500.0</td>\n",
       "      <td>Multiplex</td>\n",
       "      <td>2-Storey</td>\n",
       "      <td>6.0</td>\n",
       "      <td>0.0</td>\n",
       "      <td>6.0</td>\n",
       "      <td>N</td>\n",
       "      <td>3.0</td>\n",
       "      <td>None</td>\n",
       "      <td>Central Air</td>\n",
       "      <td>Gas</td>\n",
       "      <td>2021-11-03</td>\n",
       "      <td>W5422077</td>\n",
       "      <td>29 Hadrian Dr, Toronto</td>\n",
       "      <td>43.714866</td>\n",
       "      <td>-79.552596</td>\n",
       "    </tr>\n",
       "  </tbody>\n",
       "</table>\n",
       "<p>30718 rows × 19 columns</p>\n",
       "</div>"
      ],
      "text/plain": [
       "      municipality                      community  list_price  sold_price  \\\n",
       "0      Toronto C00                        Niagara    699999.0    780000.0   \n",
       "1      Toronto C01                     University    799000.0   1225000.0   \n",
       "2      Toronto C01                     University    799000.0   1203000.0   \n",
       "3      Toronto C01                        Niagara    899000.0    959000.0   \n",
       "4      Toronto C01                        Niagara    899000.0   1073000.0   \n",
       "...            ...                            ...         ...         ...   \n",
       "30713  Toronto W10  Thistletown-Beaumonde Heights   1299900.0   1300000.0   \n",
       "30714  Toronto W10  Thistletown-Beaumonde Heights   1349000.0   1365000.0   \n",
       "30715  Toronto W10         West Humber-Clairville   1599900.0   1600000.0   \n",
       "30716  Toronto W10  Thistletown-Beaumonde Heights   1750000.0   1850000.0   \n",
       "30717  Toronto W10               Elms-Old Rexdale   2213888.0   2213500.0   \n",
       "\n",
       "                    type         style   br   er   wr fr  kitchen  gar_type  \\\n",
       "0      Att/Row/Townhouse      2-Storey  3.0  0.0  1.0  N      1.0      None   \n",
       "1          Semi-Detached      2-Storey  3.0  0.0  2.0  Y      2.0      None   \n",
       "2          Semi-Detached      2-Storey  3.0  1.0  3.0  N      2.0      None   \n",
       "3      Att/Row/Townhouse      2-Storey  3.0  0.0  2.0  Y      1.0      None   \n",
       "4      Att/Row/Townhouse      2-Storey  2.0  0.0  2.0  N      1.0      None   \n",
       "...                  ...           ...  ...  ...  ... ..      ...       ...   \n",
       "30713           Detached  1 1/2 Storey  4.0  2.0  3.0  N      1.0  Attached   \n",
       "30714           Detached     Backsplit  4.0  1.0  2.0  N      1.0  Attached   \n",
       "30715           Detached      2-Storey  4.0  0.0  4.0  Y      1.0  Attached   \n",
       "30716           Detached     Backsplit  5.0  0.0  4.0  Y      1.0  Attached   \n",
       "30717          Multiplex      2-Storey  6.0  0.0  6.0  N      3.0      None   \n",
       "\n",
       "                ac heat contract_date    mls_id  \\\n",
       "0      Central Air  Gas    2021-01-13  C5083064   \n",
       "1             None  Gas    2020-05-29  C4773721   \n",
       "2             None  Gas    2020-11-05  C4979474   \n",
       "3      Central Air  Gas    2020-09-22  C4923168   \n",
       "4      Central Air  Gas    2020-11-10  C4985281   \n",
       "...            ...  ...           ...       ...   \n",
       "30713  Central Air  Gas    2021-10-03  W5391840   \n",
       "30714  Central Air  Gas    2021-11-12  W5430335   \n",
       "30715  Central Air  Gas    2021-12-17  W5458498   \n",
       "30716  Central Air  Gas    2021-12-02  W5447590   \n",
       "30717  Central Air  Gas    2021-11-03  W5422077   \n",
       "\n",
       "                              address        lat        lng  \n",
       "0          793 Adelaide St W, Toronto  43.643807 -79.409426  \n",
       "1                75 Major St, Toronto  43.659648 -79.403456  \n",
       "2                81 Major St, Toronto  43.659777 -79.403505  \n",
       "3          784 Adelaide St W, Toronto  43.644117 -79.409249  \n",
       "4            16 Whitaker Ave, Toronto  43.643948 -79.406457  \n",
       "...                               ...        ...        ...  \n",
       "30713         8 Wardlaw Cres, Toronto  43.739635 -79.565621  \n",
       "30714  156 Thistle Down Blvd, Toronto  43.740987 -79.550545  \n",
       "30715        11 Woodlot Cres, Toronto  43.732902 -79.614069  \n",
       "30716     16 Forest Path Crt, Toronto  43.741928 -79.555623  \n",
       "30717          29 Hadrian Dr, Toronto  43.714866 -79.552596  \n",
       "\n",
       "[30718 rows x 19 columns]"
      ]
     },
     "execution_count": 3,
     "metadata": {},
     "output_type": "execute_result"
    }
   ],
   "source": [
    "#Viewing the BD from SQL\n",
    "\n",
    "df_dbase = sqlio.read_sql_query('''SELECT * FROM public.\"REALESTATE\";''', conn)\n",
    "df_dbase"
   ]
  },
  {
   "cell_type": "code",
   "execution_count": 4,
   "id": "849bee8d",
   "metadata": {},
   "outputs": [
    {
     "data": {
      "text/plain": [
       "municipality     0\n",
       "community        0\n",
       "list_price       0\n",
       "sold_price       0\n",
       "type             0\n",
       "style            0\n",
       "br               0\n",
       "er               0\n",
       "wr               0\n",
       "fr               0\n",
       "kitchen          0\n",
       "gar_type         0\n",
       "ac               0\n",
       "heat             0\n",
       "contract_date    0\n",
       "mls_id           0\n",
       "address          0\n",
       "lat              0\n",
       "lng              0\n",
       "dtype: int64"
      ]
     },
     "execution_count": 4,
     "metadata": {},
     "output_type": "execute_result"
    }
   ],
   "source": [
    "#Detecting Nulls\n",
    "df_dbase.isnull().sum()"
   ]
  },
  {
   "cell_type": "code",
   "execution_count": 5,
   "id": "04de883a",
   "metadata": {},
   "outputs": [
    {
     "data": {
      "text/plain": [
       "municipality      object\n",
       "community         object\n",
       "list_price       float64\n",
       "sold_price       float64\n",
       "type              object\n",
       "style             object\n",
       "br               float64\n",
       "er               float64\n",
       "wr               float64\n",
       "fr                object\n",
       "kitchen          float64\n",
       "gar_type          object\n",
       "ac                object\n",
       "heat              object\n",
       "contract_date     object\n",
       "mls_id            object\n",
       "address           object\n",
       "lat              float64\n",
       "lng              float64\n",
       "dtype: object"
      ]
     },
     "execution_count": 5,
     "metadata": {},
     "output_type": "execute_result"
    }
   ],
   "source": [
    "#Detecting Data Types\n",
    "df_dbase.dtypes"
   ]
  },
  {
   "cell_type": "code",
   "execution_count": 6,
   "id": "8a08f63f",
   "metadata": {},
   "outputs": [
    {
     "data": {
      "text/html": [
       "<div>\n",
       "<style scoped>\n",
       "    .dataframe tbody tr th:only-of-type {\n",
       "        vertical-align: middle;\n",
       "    }\n",
       "\n",
       "    .dataframe tbody tr th {\n",
       "        vertical-align: top;\n",
       "    }\n",
       "\n",
       "    .dataframe thead th {\n",
       "        text-align: right;\n",
       "    }\n",
       "</style>\n",
       "<table border=\"1\" class=\"dataframe\">\n",
       "  <thead>\n",
       "    <tr style=\"text-align: right;\">\n",
       "      <th></th>\n",
       "      <th>municipality</th>\n",
       "      <th>community</th>\n",
       "      <th>list_price</th>\n",
       "      <th>sold_price</th>\n",
       "      <th>type</th>\n",
       "      <th>style</th>\n",
       "      <th>br</th>\n",
       "      <th>er</th>\n",
       "      <th>wr</th>\n",
       "      <th>fr</th>\n",
       "      <th>kitchen</th>\n",
       "      <th>gar_type</th>\n",
       "      <th>ac</th>\n",
       "      <th>heat</th>\n",
       "      <th>contract_date</th>\n",
       "      <th>mls_id</th>\n",
       "      <th>address</th>\n",
       "      <th>lat</th>\n",
       "      <th>lng</th>\n",
       "    </tr>\n",
       "  </thead>\n",
       "  <tbody>\n",
       "    <tr>\n",
       "      <th>0</th>\n",
       "      <td>Toronto C00</td>\n",
       "      <td>Niagara</td>\n",
       "      <td>699999.0</td>\n",
       "      <td>780000.0</td>\n",
       "      <td>Att/Row/Townhouse</td>\n",
       "      <td>2-Storey</td>\n",
       "      <td>3.0</td>\n",
       "      <td>0.0</td>\n",
       "      <td>1.0</td>\n",
       "      <td>N</td>\n",
       "      <td>1.0</td>\n",
       "      <td>None</td>\n",
       "      <td>Central Air</td>\n",
       "      <td>Gas</td>\n",
       "      <td>2021-01-13</td>\n",
       "      <td>C5083064</td>\n",
       "      <td>793 Adelaide St W, Toronto</td>\n",
       "      <td>43.643807</td>\n",
       "      <td>-79.409426</td>\n",
       "    </tr>\n",
       "    <tr>\n",
       "      <th>1</th>\n",
       "      <td>Toronto C01</td>\n",
       "      <td>University</td>\n",
       "      <td>799000.0</td>\n",
       "      <td>1225000.0</td>\n",
       "      <td>Semi-Detached</td>\n",
       "      <td>2-Storey</td>\n",
       "      <td>3.0</td>\n",
       "      <td>0.0</td>\n",
       "      <td>2.0</td>\n",
       "      <td>Y</td>\n",
       "      <td>2.0</td>\n",
       "      <td>None</td>\n",
       "      <td>None</td>\n",
       "      <td>Gas</td>\n",
       "      <td>2020-05-29</td>\n",
       "      <td>C4773721</td>\n",
       "      <td>75 Major St, Toronto</td>\n",
       "      <td>43.659648</td>\n",
       "      <td>-79.403456</td>\n",
       "    </tr>\n",
       "    <tr>\n",
       "      <th>2</th>\n",
       "      <td>Toronto C01</td>\n",
       "      <td>University</td>\n",
       "      <td>799000.0</td>\n",
       "      <td>1203000.0</td>\n",
       "      <td>Semi-Detached</td>\n",
       "      <td>2-Storey</td>\n",
       "      <td>3.0</td>\n",
       "      <td>1.0</td>\n",
       "      <td>3.0</td>\n",
       "      <td>N</td>\n",
       "      <td>2.0</td>\n",
       "      <td>None</td>\n",
       "      <td>None</td>\n",
       "      <td>Gas</td>\n",
       "      <td>2020-11-05</td>\n",
       "      <td>C4979474</td>\n",
       "      <td>81 Major St, Toronto</td>\n",
       "      <td>43.659777</td>\n",
       "      <td>-79.403505</td>\n",
       "    </tr>\n",
       "    <tr>\n",
       "      <th>3</th>\n",
       "      <td>Toronto C01</td>\n",
       "      <td>Niagara</td>\n",
       "      <td>899000.0</td>\n",
       "      <td>959000.0</td>\n",
       "      <td>Att/Row/Townhouse</td>\n",
       "      <td>2-Storey</td>\n",
       "      <td>3.0</td>\n",
       "      <td>0.0</td>\n",
       "      <td>2.0</td>\n",
       "      <td>Y</td>\n",
       "      <td>1.0</td>\n",
       "      <td>None</td>\n",
       "      <td>Central Air</td>\n",
       "      <td>Gas</td>\n",
       "      <td>2020-09-22</td>\n",
       "      <td>C4923168</td>\n",
       "      <td>784 Adelaide St W, Toronto</td>\n",
       "      <td>43.644117</td>\n",
       "      <td>-79.409249</td>\n",
       "    </tr>\n",
       "    <tr>\n",
       "      <th>4</th>\n",
       "      <td>Toronto C01</td>\n",
       "      <td>Niagara</td>\n",
       "      <td>899000.0</td>\n",
       "      <td>1073000.0</td>\n",
       "      <td>Att/Row/Townhouse</td>\n",
       "      <td>2-Storey</td>\n",
       "      <td>2.0</td>\n",
       "      <td>0.0</td>\n",
       "      <td>2.0</td>\n",
       "      <td>N</td>\n",
       "      <td>1.0</td>\n",
       "      <td>None</td>\n",
       "      <td>Central Air</td>\n",
       "      <td>Gas</td>\n",
       "      <td>2020-11-10</td>\n",
       "      <td>C4985281</td>\n",
       "      <td>16 Whitaker Ave, Toronto</td>\n",
       "      <td>43.643948</td>\n",
       "      <td>-79.406457</td>\n",
       "    </tr>\n",
       "    <tr>\n",
       "      <th>...</th>\n",
       "      <td>...</td>\n",
       "      <td>...</td>\n",
       "      <td>...</td>\n",
       "      <td>...</td>\n",
       "      <td>...</td>\n",
       "      <td>...</td>\n",
       "      <td>...</td>\n",
       "      <td>...</td>\n",
       "      <td>...</td>\n",
       "      <td>...</td>\n",
       "      <td>...</td>\n",
       "      <td>...</td>\n",
       "      <td>...</td>\n",
       "      <td>...</td>\n",
       "      <td>...</td>\n",
       "      <td>...</td>\n",
       "      <td>...</td>\n",
       "      <td>...</td>\n",
       "      <td>...</td>\n",
       "    </tr>\n",
       "    <tr>\n",
       "      <th>30713</th>\n",
       "      <td>Toronto W10</td>\n",
       "      <td>Thistletown-Beaumonde Heights</td>\n",
       "      <td>1299900.0</td>\n",
       "      <td>1300000.0</td>\n",
       "      <td>Detached</td>\n",
       "      <td>1 1/2 Storey</td>\n",
       "      <td>4.0</td>\n",
       "      <td>2.0</td>\n",
       "      <td>3.0</td>\n",
       "      <td>N</td>\n",
       "      <td>1.0</td>\n",
       "      <td>Attached</td>\n",
       "      <td>Central Air</td>\n",
       "      <td>Gas</td>\n",
       "      <td>2021-10-03</td>\n",
       "      <td>W5391840</td>\n",
       "      <td>8 Wardlaw Cres, Toronto</td>\n",
       "      <td>43.739635</td>\n",
       "      <td>-79.565621</td>\n",
       "    </tr>\n",
       "    <tr>\n",
       "      <th>30714</th>\n",
       "      <td>Toronto W10</td>\n",
       "      <td>Thistletown-Beaumonde Heights</td>\n",
       "      <td>1349000.0</td>\n",
       "      <td>1365000.0</td>\n",
       "      <td>Detached</td>\n",
       "      <td>Backsplit</td>\n",
       "      <td>4.0</td>\n",
       "      <td>1.0</td>\n",
       "      <td>2.0</td>\n",
       "      <td>N</td>\n",
       "      <td>1.0</td>\n",
       "      <td>Attached</td>\n",
       "      <td>Central Air</td>\n",
       "      <td>Gas</td>\n",
       "      <td>2021-11-12</td>\n",
       "      <td>W5430335</td>\n",
       "      <td>156 Thistle Down Blvd, Toronto</td>\n",
       "      <td>43.740987</td>\n",
       "      <td>-79.550545</td>\n",
       "    </tr>\n",
       "    <tr>\n",
       "      <th>30715</th>\n",
       "      <td>Toronto W10</td>\n",
       "      <td>West Humber-Clairville</td>\n",
       "      <td>1599900.0</td>\n",
       "      <td>1600000.0</td>\n",
       "      <td>Detached</td>\n",
       "      <td>2-Storey</td>\n",
       "      <td>4.0</td>\n",
       "      <td>0.0</td>\n",
       "      <td>4.0</td>\n",
       "      <td>Y</td>\n",
       "      <td>1.0</td>\n",
       "      <td>Attached</td>\n",
       "      <td>Central Air</td>\n",
       "      <td>Gas</td>\n",
       "      <td>2021-12-17</td>\n",
       "      <td>W5458498</td>\n",
       "      <td>11 Woodlot Cres, Toronto</td>\n",
       "      <td>43.732902</td>\n",
       "      <td>-79.614069</td>\n",
       "    </tr>\n",
       "    <tr>\n",
       "      <th>30716</th>\n",
       "      <td>Toronto W10</td>\n",
       "      <td>Thistletown-Beaumonde Heights</td>\n",
       "      <td>1750000.0</td>\n",
       "      <td>1850000.0</td>\n",
       "      <td>Detached</td>\n",
       "      <td>Backsplit</td>\n",
       "      <td>5.0</td>\n",
       "      <td>0.0</td>\n",
       "      <td>4.0</td>\n",
       "      <td>Y</td>\n",
       "      <td>1.0</td>\n",
       "      <td>Attached</td>\n",
       "      <td>Central Air</td>\n",
       "      <td>Gas</td>\n",
       "      <td>2021-12-02</td>\n",
       "      <td>W5447590</td>\n",
       "      <td>16 Forest Path Crt, Toronto</td>\n",
       "      <td>43.741928</td>\n",
       "      <td>-79.555623</td>\n",
       "    </tr>\n",
       "    <tr>\n",
       "      <th>30717</th>\n",
       "      <td>Toronto W10</td>\n",
       "      <td>Elms-Old Rexdale</td>\n",
       "      <td>2213888.0</td>\n",
       "      <td>2213500.0</td>\n",
       "      <td>Multiplex</td>\n",
       "      <td>2-Storey</td>\n",
       "      <td>6.0</td>\n",
       "      <td>0.0</td>\n",
       "      <td>6.0</td>\n",
       "      <td>N</td>\n",
       "      <td>3.0</td>\n",
       "      <td>None</td>\n",
       "      <td>Central Air</td>\n",
       "      <td>Gas</td>\n",
       "      <td>2021-11-03</td>\n",
       "      <td>W5422077</td>\n",
       "      <td>29 Hadrian Dr, Toronto</td>\n",
       "      <td>43.714866</td>\n",
       "      <td>-79.552596</td>\n",
       "    </tr>\n",
       "  </tbody>\n",
       "</table>\n",
       "<p>30718 rows × 19 columns</p>\n",
       "</div>"
      ],
      "text/plain": [
       "      municipality                      community  list_price  sold_price  \\\n",
       "0      Toronto C00                        Niagara    699999.0    780000.0   \n",
       "1      Toronto C01                     University    799000.0   1225000.0   \n",
       "2      Toronto C01                     University    799000.0   1203000.0   \n",
       "3      Toronto C01                        Niagara    899000.0    959000.0   \n",
       "4      Toronto C01                        Niagara    899000.0   1073000.0   \n",
       "...            ...                            ...         ...         ...   \n",
       "30713  Toronto W10  Thistletown-Beaumonde Heights   1299900.0   1300000.0   \n",
       "30714  Toronto W10  Thistletown-Beaumonde Heights   1349000.0   1365000.0   \n",
       "30715  Toronto W10         West Humber-Clairville   1599900.0   1600000.0   \n",
       "30716  Toronto W10  Thistletown-Beaumonde Heights   1750000.0   1850000.0   \n",
       "30717  Toronto W10               Elms-Old Rexdale   2213888.0   2213500.0   \n",
       "\n",
       "                    type         style   br   er   wr fr  kitchen  gar_type  \\\n",
       "0      Att/Row/Townhouse      2-Storey  3.0  0.0  1.0  N      1.0      None   \n",
       "1          Semi-Detached      2-Storey  3.0  0.0  2.0  Y      2.0      None   \n",
       "2          Semi-Detached      2-Storey  3.0  1.0  3.0  N      2.0      None   \n",
       "3      Att/Row/Townhouse      2-Storey  3.0  0.0  2.0  Y      1.0      None   \n",
       "4      Att/Row/Townhouse      2-Storey  2.0  0.0  2.0  N      1.0      None   \n",
       "...                  ...           ...  ...  ...  ... ..      ...       ...   \n",
       "30713           Detached  1 1/2 Storey  4.0  2.0  3.0  N      1.0  Attached   \n",
       "30714           Detached     Backsplit  4.0  1.0  2.0  N      1.0  Attached   \n",
       "30715           Detached      2-Storey  4.0  0.0  4.0  Y      1.0  Attached   \n",
       "30716           Detached     Backsplit  5.0  0.0  4.0  Y      1.0  Attached   \n",
       "30717          Multiplex      2-Storey  6.0  0.0  6.0  N      3.0      None   \n",
       "\n",
       "                ac heat contract_date    mls_id  \\\n",
       "0      Central Air  Gas    2021-01-13  C5083064   \n",
       "1             None  Gas    2020-05-29  C4773721   \n",
       "2             None  Gas    2020-11-05  C4979474   \n",
       "3      Central Air  Gas    2020-09-22  C4923168   \n",
       "4      Central Air  Gas    2020-11-10  C4985281   \n",
       "...            ...  ...           ...       ...   \n",
       "30713  Central Air  Gas    2021-10-03  W5391840   \n",
       "30714  Central Air  Gas    2021-11-12  W5430335   \n",
       "30715  Central Air  Gas    2021-12-17  W5458498   \n",
       "30716  Central Air  Gas    2021-12-02  W5447590   \n",
       "30717  Central Air  Gas    2021-11-03  W5422077   \n",
       "\n",
       "                              address        lat        lng  \n",
       "0          793 Adelaide St W, Toronto  43.643807 -79.409426  \n",
       "1                75 Major St, Toronto  43.659648 -79.403456  \n",
       "2                81 Major St, Toronto  43.659777 -79.403505  \n",
       "3          784 Adelaide St W, Toronto  43.644117 -79.409249  \n",
       "4            16 Whitaker Ave, Toronto  43.643948 -79.406457  \n",
       "...                               ...        ...        ...  \n",
       "30713         8 Wardlaw Cres, Toronto  43.739635 -79.565621  \n",
       "30714  156 Thistle Down Blvd, Toronto  43.740987 -79.550545  \n",
       "30715        11 Woodlot Cres, Toronto  43.732902 -79.614069  \n",
       "30716     16 Forest Path Crt, Toronto  43.741928 -79.555623  \n",
       "30717          29 Hadrian Dr, Toronto  43.714866 -79.552596  \n",
       "\n",
       "[30718 rows x 19 columns]"
      ]
     },
     "execution_count": 6,
     "metadata": {},
     "output_type": "execute_result"
    }
   ],
   "source": [
    "#Printing DB\n",
    "df_dbase"
   ]
  },
  {
   "cell_type": "code",
   "execution_count": 7,
   "id": "4b7fa390",
   "metadata": {},
   "outputs": [],
   "source": [
    "# Visualisation code taken from https://github.com/mahsamir/CaseStudy-KerasRegression/blob/master/Kaggle-KerassRegression.ipynb\n",
    "import seaborn as sns"
   ]
  },
  {
   "cell_type": "code",
   "execution_count": 8,
   "id": "90a18c33",
   "metadata": {},
   "outputs": [
    {
     "name": "stderr",
     "output_type": "stream",
     "text": [
      "/opt/anaconda3/envs/mlenv/lib/python3.7/site-packages/seaborn/distributions.py:2619: FutureWarning: `distplot` is a deprecated function and will be removed in a future version. Please adapt your code to use either `displot` (a figure-level function with similar flexibility) or `histplot` (an axes-level function for histograms).\n",
      "  warnings.warn(msg, FutureWarning)\n",
      "/opt/anaconda3/envs/mlenv/lib/python3.7/site-packages/seaborn/_decorators.py:43: FutureWarning: Pass the following variable as a keyword arg: x. From version 0.12, the only valid positional argument will be `data`, and passing other arguments without an explicit keyword will result in an error or misinterpretation.\n",
      "  FutureWarning\n"
     ]
    },
    {
     "data": {
      "image/png": "[encoded data removed]",
      "text/plain": [
       "<Figure size 720x504 with 2 Axes>"
      ]
     },
     "metadata": {
      "needs_background": "light"
     },
     "output_type": "display_data"
    }
   ],
   "source": [
    "#visualizing house prices\n",
    "fig = plt.figure(figsize=(10,7))\n",
    "fig.add_subplot(2,1,1)\n",
    "sns.distplot(df_dbase['sold_price'])\n",
    "fig.add_subplot(2,1,2)\n",
    "sns.boxplot(df_dbase['sold_price'])\n",
    "plt.tight_layout()"
   ]
  },
  {
   "cell_type": "code",
   "execution_count": 22,
   "id": "ab23360a",
   "metadata": {},
   "outputs": [
    {
     "name": "stderr",
     "output_type": "stream",
     "text": [
      "/opt/anaconda3/envs/mlenv/lib/python3.7/site-packages/seaborn/_decorators.py:43: FutureWarning: Pass the following variable as a keyword arg: x. From version 0.12, the only valid positional argument will be `data`, and passing other arguments without an explicit keyword will result in an error or misinterpretation.\n",
      "  FutureWarning\n",
      "/opt/anaconda3/envs/mlenv/lib/python3.7/site-packages/seaborn/_decorators.py:43: FutureWarning: Pass the following variable as a keyword arg: x. From version 0.12, the only valid positional argument will be `data`, and passing other arguments without an explicit keyword will result in an error or misinterpretation.\n",
      "  FutureWarning\n",
      "/opt/anaconda3/envs/mlenv/lib/python3.7/site-packages/seaborn/_decorators.py:43: FutureWarning: Pass the following variable as a keyword arg: x. From version 0.12, the only valid positional argument will be `data`, and passing other arguments without an explicit keyword will result in an error or misinterpretation.\n",
      "  FutureWarning\n",
      "/opt/anaconda3/envs/mlenv/lib/python3.7/site-packages/seaborn/_decorators.py:43: FutureWarning: Pass the following variable as a keyword arg: x. From version 0.12, the only valid positional argument will be `data`, and passing other arguments without an explicit keyword will result in an error or misinterpretation.\n",
      "  FutureWarning\n"
     ]
    },
    {
     "data": {
      "image/png": "[encoded data removed]",
      "text/plain": [
       "<Figure size 1080x504 with 4 Axes>"
      ]
     },
     "metadata": {
      "needs_background": "light"
     },
     "output_type": "display_data"
    }
   ],
   "source": [
    "# plotting bedrooms, kitchens, extra rooms and wash rooms according to count of houses\n",
    "fig = plt.figure(figsize=(15,7))\n",
    "fig.add_subplot(2,2,1)\n",
    "sns.countplot(df_dbase['br'])\n",
    "fig.add_subplot(2,2,2)\n",
    "sns.countplot(df_dbase['er'])\n",
    "fig.add_subplot(2,2,3)\n",
    "sns.countplot(df_dbase['wr'])\n",
    "fig.add_subplot(2,2,4)\n",
    "sns.countplot(df_dbase['kitchen'])\n",
    "plt.tight_layout()"
   ]
  },
  {
   "cell_type": "code",
   "execution_count": 23,
   "id": "65a82235",
   "metadata": {},
   "outputs": [
    {
     "name": "stderr",
     "output_type": "stream",
     "text": [
      "/opt/anaconda3/envs/mlenv/lib/python3.7/site-packages/seaborn/_decorators.py:43: FutureWarning: Pass the following variable as a keyword arg: x. From version 0.12, the only valid positional argument will be `data`, and passing other arguments without an explicit keyword will result in an error or misinterpretation.\n",
      "  FutureWarning\n",
      "/opt/anaconda3/envs/mlenv/lib/python3.7/site-packages/seaborn/_decorators.py:43: FutureWarning: Pass the following variable as a keyword arg: x. From version 0.12, the only valid positional argument will be `data`, and passing other arguments without an explicit keyword will result in an error or misinterpretation.\n",
      "  FutureWarning\n"
     ]
    },
    {
     "data": {
      "image/png": "[encoded data removed]",
      "text/plain": [
       "<Figure size 1080x504 with 2 Axes>"
      ]
     },
     "metadata": {
      "needs_background": "light"
     },
     "output_type": "display_data"
    }
   ],
   "source": [
    "# Plotting counts of styles and types\n",
    "fig = plt.figure(figsize=(15,7))\n",
    "fig.add_subplot(2,1,1)\n",
    "sns.countplot(df_dbase['style'])\n",
    "fig.add_subplot(2,1,2)\n",
    "sns.countplot(df_dbase['type'])\n",
    "plt.tight_layout()"
   ]
  },
  {
   "cell_type": "code",
   "execution_count": 24,
   "id": "96d3e2b0",
   "metadata": {
    "scrolled": false
   },
   "outputs": [
    {
     "name": "stderr",
     "output_type": "stream",
     "text": [
      "/opt/anaconda3/envs/mlenv/lib/python3.7/site-packages/seaborn/_decorators.py:43: FutureWarning: Pass the following variable as a keyword arg: x. From version 0.12, the only valid positional argument will be `data`, and passing other arguments without an explicit keyword will result in an error or misinterpretation.\n",
      "  FutureWarning\n",
      "/opt/anaconda3/envs/mlenv/lib/python3.7/site-packages/seaborn/_decorators.py:43: FutureWarning: Pass the following variable as a keyword arg: x. From version 0.12, the only valid positional argument will be `data`, and passing other arguments without an explicit keyword will result in an error or misinterpretation.\n",
      "  FutureWarning\n",
      "/opt/anaconda3/envs/mlenv/lib/python3.7/site-packages/seaborn/_decorators.py:43: FutureWarning: Pass the following variable as a keyword arg: x. From version 0.12, the only valid positional argument will be `data`, and passing other arguments without an explicit keyword will result in an error or misinterpretation.\n",
      "  FutureWarning\n",
      "/opt/anaconda3/envs/mlenv/lib/python3.7/site-packages/seaborn/_decorators.py:43: FutureWarning: Pass the following variable as a keyword arg: x. From version 0.12, the only valid positional argument will be `data`, and passing other arguments without an explicit keyword will result in an error or misinterpretation.\n",
      "  FutureWarning\n"
     ]
    },
    {
     "data": {
      "image/png": "[encoded data removed]",
      "text/plain": [
       "<Figure size 1080x504 with 4 Axes>"
      ]
     },
     "metadata": {
      "needs_background": "light"
     },
     "output_type": "display_data"
    }
   ],
   "source": [
    "# Plotting counts ac, heat and garage type and if Familly room exists\n",
    "fig = plt.figure(figsize=(15,7))\n",
    "fig.add_subplot(2,2,1)\n",
    "sns.countplot(df_dbase['ac'])\n",
    "fig.add_subplot(2,2,2)\n",
    "sns.countplot(df_dbase['heat'])\n",
    "fig.add_subplot(2,2,3)\n",
    "sns.countplot(df_dbase['gar_type'])\n",
    "fig.add_subplot(2,2,4)\n",
    "sns.countplot(df_dbase['fr'])\n",
    "plt.tight_layout()"
   ]
  },
  {
   "cell_type": "code",
   "execution_count": 25,
   "id": "119b653e",
   "metadata": {},
   "outputs": [
    {
     "data": {
      "text/plain": [
       "<AxesSubplot:title={'center':'Selling Price according to Contract Dates'}, xlabel='Contract Date', ylabel='Selling Price'>"
      ]
     },
     "execution_count": 25,
     "metadata": {},
     "output_type": "execute_result"
    },
    {
     "data": {
      "image/png": "[encoded data removed]",
      "text/plain": [
       "<Figure size 1080x504 with 1 Axes>"
      ]
     },
     "metadata": {
      "needs_background": "light"
     },
     "output_type": "display_data"
    }
   ],
   "source": [
    "# Plotting price vs features\n",
    "df_dbase.plot(x='contract_date', y ='sold_price', figsize =(15,7), title ='Selling Price according to Contract Dates', xlabel = 'Contract Date', ylabel ='Selling Price', color = 'purple')"
   ]
  },
  {
   "cell_type": "code",
   "execution_count": 26,
   "id": "20410f1d",
   "metadata": {},
   "outputs": [
    {
     "data": {
      "text/plain": [
       "br\n",
       "0.0    1.870556e+06\n",
       "1.0    9.992116e+05\n",
       "2.0    1.100633e+06\n",
       "3.0    1.279634e+06\n",
       "4.0    1.859942e+06\n",
       "5.0    2.516545e+06\n",
       "6.0    2.555058e+06\n",
       "7.0    2.428115e+06\n",
       "8.0    2.572514e+06\n",
       "9.0    2.684413e+06\n",
       "Name: sold_price, dtype: float64"
      ]
     },
     "execution_count": 26,
     "metadata": {},
     "output_type": "execute_result"
    }
   ],
   "source": [
    "# average Prices according to features Bedroom\n",
    "df_dbase.groupby([\"br\"]).mean()[\"sold_price\"]"
   ]
  },
  {
   "cell_type": "code",
   "execution_count": 27,
   "id": "bec2c085",
   "metadata": {},
   "outputs": [
    {
     "data": {
      "text/plain": [
       "wr\n",
       "0.0     2.033410e+06\n",
       "1.0     1.043299e+06\n",
       "2.0     1.163934e+06\n",
       "3.0     1.363856e+06\n",
       "4.0     1.733080e+06\n",
       "5.0     2.450635e+06\n",
       "6.0     2.948865e+06\n",
       "7.0     3.623988e+06\n",
       "8.0     4.317660e+06\n",
       "9.0     6.422211e+06\n",
       "10.0    4.501611e+06\n",
       "11.0    5.670101e+06\n",
       "12.0    5.263333e+06\n",
       "13.0    1.290000e+07\n",
       "14.0    6.115000e+06\n",
       "15.0    7.479500e+06\n",
       "Name: sold_price, dtype: float64"
      ]
     },
     "execution_count": 27,
     "metadata": {},
     "output_type": "execute_result"
    }
   ],
   "source": [
    "# average Prices according to features Washroom\n",
    "df_dbase.groupby([\"wr\"]).mean()[\"sold_price\"]"
   ]
  },
  {
   "cell_type": "code",
   "execution_count": 28,
   "id": "d6651fce",
   "metadata": {},
   "outputs": [
    {
     "data": {
      "text/plain": [
       "er\n",
       "0.0    1.396732e+06\n",
       "1.0    1.624490e+06\n",
       "2.0    1.476245e+06\n",
       "3.0    1.374550e+06\n",
       "4.0    1.618508e+06\n",
       "5.0    1.756574e+06\n",
       "6.0    2.854545e+06\n",
       "7.0    1.552825e+06\n",
       "8.0    2.905000e+06\n",
       "Name: sold_price, dtype: float64"
      ]
     },
     "execution_count": 28,
     "metadata": {},
     "output_type": "execute_result"
    }
   ],
   "source": [
    "# average Prices according to features Entertainment room\n",
    "df_dbase.groupby([\"er\"]).mean()[\"sold_price\"]"
   ]
  },
  {
   "cell_type": "code",
   "execution_count": 29,
   "id": "5b046495",
   "metadata": {},
   "outputs": [
    {
     "data": {
      "text/plain": [
       "fr\n",
       "N    1.250393e+06\n",
       "Y    1.844213e+06\n",
       "Name: sold_price, dtype: float64"
      ]
     },
     "execution_count": 29,
     "metadata": {},
     "output_type": "execute_result"
    }
   ],
   "source": [
    "# average Prices according to features Familly Room\n",
    "df_dbase.groupby([\"fr\"]).mean()[\"sold_price\"]"
   ]
  },
  {
   "cell_type": "code",
   "execution_count": 30,
   "id": "86a5a884",
   "metadata": {},
   "outputs": [
    {
     "data": {
      "text/plain": [
       "kitchen\n",
       "0.0    1.922108e+06\n",
       "1.0    1.500228e+06\n",
       "2.0    1.403748e+06\n",
       "3.0    1.712356e+06\n",
       "4.0    2.211764e+06\n",
       "5.0    2.563227e+06\n",
       "6.0    2.666288e+06\n",
       "7.0    2.205917e+06\n",
       "8.0    3.371656e+06\n",
       "9.0    3.046250e+06\n",
       "Name: sold_price, dtype: float64"
      ]
     },
     "execution_count": 30,
     "metadata": {},
     "output_type": "execute_result"
    }
   ],
   "source": [
    "# average Prices according to features Kitchen\n",
    "df_dbase.groupby([\"kitchen\"]).mean()[\"sold_price\"]"
   ]
  },
  {
   "cell_type": "code",
   "execution_count": 31,
   "id": "69710a09",
   "metadata": {},
   "outputs": [
    {
     "data": {
      "text/plain": [
       "gar_type\n",
       "Attached    1.470819e+06\n",
       "Built-in    1.910682e+06\n",
       "Carport     1.183159e+06\n",
       "Detached    1.474331e+06\n",
       "None        1.347291e+06\n",
       "Other       1.404705e+06\n",
       "Name: sold_price, dtype: float64"
      ]
     },
     "execution_count": 31,
     "metadata": {},
     "output_type": "execute_result"
    }
   ],
   "source": [
    "# average Prices according to features Garage\n",
    "df_dbase.groupby([\"gar_type\"]).mean()[\"sold_price\"]"
   ]
  },
  {
   "cell_type": "code",
   "execution_count": 32,
   "id": "5c3e6e6d",
   "metadata": {},
   "outputs": [
    {
     "data": {
      "text/plain": [
       "heat\n",
       "Electric     1.334269e+06\n",
       "Gas          1.505237e+06\n",
       "Grnd Srce    3.177992e+06\n",
       "Oil          1.275490e+06\n",
       "Other        1.630947e+06\n",
       "Propane      1.200000e+06\n",
       "Wood         1.296728e+06\n",
       "Name: sold_price, dtype: float64"
      ]
     },
     "execution_count": 32,
     "metadata": {},
     "output_type": "execute_result"
    }
   ],
   "source": [
    "# average Prices according to features Heating\n",
    "df_dbase.groupby([\"heat\"]).mean()[\"sold_price\"]"
   ]
  },
  {
   "cell_type": "code",
   "execution_count": 33,
   "id": "6fcb7468",
   "metadata": {},
   "outputs": [
    {
     "data": {
      "text/plain": [
       "ac\n",
       "Central Air    1.513155e+06\n",
       "None           1.286457e+06\n",
       "Other          1.807320e+06\n",
       "Wall Unit      1.669040e+06\n",
       "Window Unit    1.321409e+06\n",
       "Name: sold_price, dtype: float64"
      ]
     },
     "execution_count": 33,
     "metadata": {},
     "output_type": "execute_result"
    }
   ],
   "source": [
    "# average Prices according to features AC\n",
    "df_dbase.groupby([\"ac\"]).mean()[\"sold_price\"]"
   ]
  },
  {
   "cell_type": "code",
   "execution_count": 34,
   "id": "8a354933",
   "metadata": {},
   "outputs": [
    {
     "data": {
      "text/plain": [
       "type\n",
       "Att/Row/Townhouse    1.172969e+06\n",
       "Detached             1.621732e+06\n",
       "Duplex               1.607485e+06\n",
       "Fourplex             2.050352e+06\n",
       "Link                 9.876958e+05\n",
       "Multiplex            2.772008e+06\n",
       "Other                2.176091e+06\n",
       "Semi                 1.450000e+06\n",
       "Semi-Detached        1.251453e+06\n",
       "Store w/Apt/Offc     1.432706e+06\n",
       "Triplex              1.628706e+06\n",
       "Vacant Land          1.049995e+06\n",
       "Name: sold_price, dtype: float64"
      ]
     },
     "execution_count": 34,
     "metadata": {},
     "output_type": "execute_result"
    }
   ],
   "source": [
    "# average Prices according to features By residence Type\n",
    "df_dbase.groupby([\"type\"]).mean()[\"sold_price\"]"
   ]
  },
  {
   "cell_type": "code",
   "execution_count": 35,
   "id": "291ac2a0",
   "metadata": {},
   "outputs": [
    {
     "data": {
      "text/plain": [
       "style\n",
       "1 1/2 Storey       1.201245e+06\n",
       "2 1/2 Storey       1.986681e+06\n",
       "2-Storey           1.629456e+06\n",
       "3-Storey           1.854262e+06\n",
       "Backsplit          1.166243e+06\n",
       "Backsplt-A...      1.205000e+06\n",
       "Bungaloft          1.220307e+06\n",
       "Bungalow           1.119971e+06\n",
       "Bungalow-Raised    1.130534e+06\n",
       "Multi-Level        2.030000e+06\n",
       "Other              1.786648e+06\n",
       "Sidesplit          1.402856e+06\n",
       "Name: sold_price, dtype: float64"
      ]
     },
     "execution_count": 35,
     "metadata": {},
     "output_type": "execute_result"
    }
   ],
   "source": [
    "# average Prices according to features By residence Style\n",
    "df_dbase.groupby([\"style\"]).mean()[\"sold_price\"]"
   ]
  },
  {
   "cell_type": "code",
   "execution_count": 36,
   "id": "d3ee3bf2",
   "metadata": {},
   "outputs": [
    {
     "data": {
      "text/plain": [
       "municipality\n",
       "Toronto C00    7.800000e+05\n",
       "Toronto C01    1.701418e+06\n",
       "Toronto C02    2.422918e+06\n",
       "Toronto C03    2.031312e+06\n",
       "Toronto C04    2.476018e+06\n",
       "Toronto C06    1.599797e+06\n",
       "Toronto C07    1.762755e+06\n",
       "Toronto C08    1.566788e+06\n",
       "Toronto C09    3.663374e+06\n",
       "Toronto C10    1.899077e+06\n",
       "Toronto C11    2.180700e+06\n",
       "Toronto C12    3.986045e+06\n",
       "Toronto C13    1.706585e+06\n",
       "Toronto C14    2.181034e+06\n",
       "Toronto C15    1.541356e+06\n",
       "Toronto E01    1.382839e+06\n",
       "Toronto E02    1.503525e+06\n",
       "Toronto E03    1.271646e+06\n",
       "Toronto E04    1.011135e+06\n",
       "Toronto E05    1.161252e+06\n",
       "Toronto E06    1.160547e+06\n",
       "Toronto E07    1.086651e+06\n",
       "Toronto E08    1.219745e+06\n",
       "Toronto E09    9.779303e+05\n",
       "Toronto E10    1.101861e+06\n",
       "Toronto E11    9.343084e+05\n",
       "Toronto W01    1.850098e+06\n",
       "Toronto W02    1.456323e+06\n",
       "Toronto W03    1.020027e+06\n",
       "Toronto W04    1.108075e+06\n",
       "Toronto W05    9.906750e+05\n",
       "Toronto W06    1.291410e+06\n",
       "Toronto W07    1.615211e+06\n",
       "Toronto W08    1.722662e+06\n",
       "Toronto W09    1.243138e+06\n",
       "Toronto W10    9.619122e+05\n",
       "Name: sold_price, dtype: float64"
      ]
     },
     "execution_count": 36,
     "metadata": {},
     "output_type": "execute_result"
    }
   ],
   "source": [
    "# average Prices according to features by Area \"Municipality\"\n",
    "df_dbase.groupby([\"municipality\"]).mean()[\"sold_price\"]"
   ]
  },
  {
   "cell_type": "code",
   "execution_count": 37,
   "id": "ddf79646",
   "metadata": {},
   "outputs": [
    {
     "data": {
      "text/plain": [
       "community\n",
       "Agincourt North                 1.053070e+06\n",
       "Agincourt South-Malvern West    1.173628e+06\n",
       "Alderwood                       1.263316e+06\n",
       "Annex                           2.516080e+06\n",
       "Banbury-Don Mills               2.387883e+06\n",
       "                                    ...     \n",
       "Wychwood                        1.597694e+06\n",
       "Yonge-Eglinton                  2.127079e+06\n",
       "Yonge-St. Clair                 2.845841e+06\n",
       "York University Heights         9.948220e+05\n",
       "Yorkdale-Glen Park              1.461823e+06\n",
       "Name: sold_price, Length: 142, dtype: float64"
      ]
     },
     "execution_count": 37,
     "metadata": {},
     "output_type": "execute_result"
    }
   ],
   "source": [
    "# average Prices according to features Community\n",
    "df_dbase.groupby([\"community\"]).mean()[\"sold_price\"]"
   ]
  },
  {
   "cell_type": "code",
   "execution_count": 38,
   "id": "61edea29",
   "metadata": {},
   "outputs": [],
   "source": [
    "# average Prices according to features, \n",
    "#X1 clean lon, lat, and compare by type only\n",
    "#X2 clean lon, lat, and compare by style only\n",
    "\n",
    "x1= df_dbase.groupby([\"type\"]).mean()\n",
    "x2 = df_dbase.groupby([\"style\"]).mean()\n",
    "x1.drop(['lat', 'lng'], inplace=True, axis =1)\n",
    "x2.drop(['lat', 'lng'], inplace=True, axis =1)"
   ]
  },
  {
   "cell_type": "code",
   "execution_count": 39,
   "id": "700eb413",
   "metadata": {},
   "outputs": [
    {
     "data": {
      "text/html": [
       "<div>\n",
       "<style scoped>\n",
       "    .dataframe tbody tr th:only-of-type {\n",
       "        vertical-align: middle;\n",
       "    }\n",
       "\n",
       "    .dataframe tbody tr th {\n",
       "        vertical-align: top;\n",
       "    }\n",
       "\n",
       "    .dataframe thead th {\n",
       "        text-align: right;\n",
       "    }\n",
       "</style>\n",
       "<table border=\"1\" class=\"dataframe\">\n",
       "  <thead>\n",
       "    <tr style=\"text-align: right;\">\n",
       "      <th></th>\n",
       "      <th>list_price</th>\n",
       "      <th>sold_price</th>\n",
       "      <th>br</th>\n",
       "      <th>er</th>\n",
       "      <th>wr</th>\n",
       "      <th>kitchen</th>\n",
       "    </tr>\n",
       "    <tr>\n",
       "      <th>type</th>\n",
       "      <th></th>\n",
       "      <th></th>\n",
       "      <th></th>\n",
       "      <th></th>\n",
       "      <th></th>\n",
       "      <th></th>\n",
       "    </tr>\n",
       "  </thead>\n",
       "  <tbody>\n",
       "    <tr>\n",
       "      <th>Att/Row/Townhouse</th>\n",
       "      <td>1.094489e+06</td>\n",
       "      <td>1.172969e+06</td>\n",
       "      <td>3.058679</td>\n",
       "      <td>0.456299</td>\n",
       "      <td>2.884284</td>\n",
       "      <td>1.089865</td>\n",
       "    </tr>\n",
       "    <tr>\n",
       "      <th>Detached</th>\n",
       "      <td>1.560759e+06</td>\n",
       "      <td>1.621732e+06</td>\n",
       "      <td>3.343519</td>\n",
       "      <td>0.913637</td>\n",
       "      <td>3.087762</td>\n",
       "      <td>1.096548</td>\n",
       "    </tr>\n",
       "    <tr>\n",
       "      <th>Duplex</th>\n",
       "      <td>1.566668e+06</td>\n",
       "      <td>1.607485e+06</td>\n",
       "      <td>4.095238</td>\n",
       "      <td>0.878307</td>\n",
       "      <td>3.285714</td>\n",
       "      <td>2.095238</td>\n",
       "    </tr>\n",
       "    <tr>\n",
       "      <th>Fourplex</th>\n",
       "      <td>2.009173e+06</td>\n",
       "      <td>2.050352e+06</td>\n",
       "      <td>6.384615</td>\n",
       "      <td>0.807692</td>\n",
       "      <td>4.576923</td>\n",
       "      <td>3.923077</td>\n",
       "    </tr>\n",
       "    <tr>\n",
       "      <th>Link</th>\n",
       "      <td>9.226016e+05</td>\n",
       "      <td>9.876958e+05</td>\n",
       "      <td>3.337662</td>\n",
       "      <td>0.883117</td>\n",
       "      <td>3.136364</td>\n",
       "      <td>1.038961</td>\n",
       "    </tr>\n",
       "    <tr>\n",
       "      <th>Multiplex</th>\n",
       "      <td>2.859444e+06</td>\n",
       "      <td>2.772008e+06</td>\n",
       "      <td>6.523077</td>\n",
       "      <td>2.261538</td>\n",
       "      <td>6.292308</td>\n",
       "      <td>4.876923</td>\n",
       "    </tr>\n",
       "    <tr>\n",
       "      <th>Other</th>\n",
       "      <td>2.145782e+06</td>\n",
       "      <td>2.176091e+06</td>\n",
       "      <td>3.636364</td>\n",
       "      <td>0.727273</td>\n",
       "      <td>3.363636</td>\n",
       "      <td>1.818182</td>\n",
       "    </tr>\n",
       "    <tr>\n",
       "      <th>Semi</th>\n",
       "      <td>1.488000e+06</td>\n",
       "      <td>1.450000e+06</td>\n",
       "      <td>3.000000</td>\n",
       "      <td>0.000000</td>\n",
       "      <td>3.000000</td>\n",
       "      <td>1.000000</td>\n",
       "    </tr>\n",
       "    <tr>\n",
       "      <th>Semi-Detached</th>\n",
       "      <td>1.140721e+06</td>\n",
       "      <td>1.251453e+06</td>\n",
       "      <td>3.190866</td>\n",
       "      <td>0.626598</td>\n",
       "      <td>2.560103</td>\n",
       "      <td>1.163579</td>\n",
       "    </tr>\n",
       "    <tr>\n",
       "      <th>Store w/Apt/Offc</th>\n",
       "      <td>1.474318e+06</td>\n",
       "      <td>1.432706e+06</td>\n",
       "      <td>2.411765</td>\n",
       "      <td>0.294118</td>\n",
       "      <td>3.147059</td>\n",
       "      <td>1.676471</td>\n",
       "    </tr>\n",
       "    <tr>\n",
       "      <th>Triplex</th>\n",
       "      <td>1.632099e+06</td>\n",
       "      <td>1.628706e+06</td>\n",
       "      <td>5.401639</td>\n",
       "      <td>0.852459</td>\n",
       "      <td>3.729508</td>\n",
       "      <td>2.795082</td>\n",
       "    </tr>\n",
       "    <tr>\n",
       "      <th>Vacant Land</th>\n",
       "      <td>1.295000e+06</td>\n",
       "      <td>1.049995e+06</td>\n",
       "      <td>0.000000</td>\n",
       "      <td>0.000000</td>\n",
       "      <td>0.000000</td>\n",
       "      <td>0.000000</td>\n",
       "    </tr>\n",
       "  </tbody>\n",
       "</table>\n",
       "</div>"
      ],
      "text/plain": [
       "                     list_price    sold_price        br        er        wr  \\\n",
       "type                                                                          \n",
       "Att/Row/Townhouse  1.094489e+06  1.172969e+06  3.058679  0.456299  2.884284   \n",
       "Detached           1.560759e+06  1.621732e+06  3.343519  0.913637  3.087762   \n",
       "Duplex             1.566668e+06  1.607485e+06  4.095238  0.878307  3.285714   \n",
       "Fourplex           2.009173e+06  2.050352e+06  6.384615  0.807692  4.576923   \n",
       "Link               9.226016e+05  9.876958e+05  3.337662  0.883117  3.136364   \n",
       "Multiplex          2.859444e+06  2.772008e+06  6.523077  2.261538  6.292308   \n",
       "Other              2.145782e+06  2.176091e+06  3.636364  0.727273  3.363636   \n",
       "Semi               1.488000e+06  1.450000e+06  3.000000  0.000000  3.000000   \n",
       "Semi-Detached      1.140721e+06  1.251453e+06  3.190866  0.626598  2.560103   \n",
       "Store w/Apt/Offc   1.474318e+06  1.432706e+06  2.411765  0.294118  3.147059   \n",
       "Triplex            1.632099e+06  1.628706e+06  5.401639  0.852459  3.729508   \n",
       "Vacant Land        1.295000e+06  1.049995e+06  0.000000  0.000000  0.000000   \n",
       "\n",
       "                    kitchen  \n",
       "type                         \n",
       "Att/Row/Townhouse  1.089865  \n",
       "Detached           1.096548  \n",
       "Duplex             2.095238  \n",
       "Fourplex           3.923077  \n",
       "Link               1.038961  \n",
       "Multiplex          4.876923  \n",
       "Other              1.818182  \n",
       "Semi               1.000000  \n",
       "Semi-Detached      1.163579  \n",
       "Store w/Apt/Offc   1.676471  \n",
       "Triplex            2.795082  \n",
       "Vacant Land        0.000000  "
      ]
     },
     "execution_count": 39,
     "metadata": {},
     "output_type": "execute_result"
    }
   ],
   "source": [
    "#Print X1\n",
    "x1"
   ]
  },
  {
   "cell_type": "code",
   "execution_count": 40,
   "id": "a18a2f68",
   "metadata": {},
   "outputs": [
    {
     "data": {
      "text/html": [
       "<div>\n",
       "<style scoped>\n",
       "    .dataframe tbody tr th:only-of-type {\n",
       "        vertical-align: middle;\n",
       "    }\n",
       "\n",
       "    .dataframe tbody tr th {\n",
       "        vertical-align: top;\n",
       "    }\n",
       "\n",
       "    .dataframe thead th {\n",
       "        text-align: right;\n",
       "    }\n",
       "</style>\n",
       "<table border=\"1\" class=\"dataframe\">\n",
       "  <thead>\n",
       "    <tr style=\"text-align: right;\">\n",
       "      <th></th>\n",
       "      <th>list_price</th>\n",
       "      <th>sold_price</th>\n",
       "      <th>br</th>\n",
       "      <th>er</th>\n",
       "      <th>wr</th>\n",
       "      <th>kitchen</th>\n",
       "    </tr>\n",
       "    <tr>\n",
       "      <th>style</th>\n",
       "      <th></th>\n",
       "      <th></th>\n",
       "      <th></th>\n",
       "      <th></th>\n",
       "      <th></th>\n",
       "      <th></th>\n",
       "    </tr>\n",
       "  </thead>\n",
       "  <tbody>\n",
       "    <tr>\n",
       "      <th>1 1/2 Storey</th>\n",
       "      <td>1.130132e+06</td>\n",
       "      <td>1.201245e+06</td>\n",
       "      <td>2.936697</td>\n",
       "      <td>0.691743</td>\n",
       "      <td>2.296330</td>\n",
       "      <td>1.064220</td>\n",
       "    </tr>\n",
       "    <tr>\n",
       "      <th>2 1/2 Storey</th>\n",
       "      <td>1.893841e+06</td>\n",
       "      <td>1.986681e+06</td>\n",
       "      <td>4.049305</td>\n",
       "      <td>0.662453</td>\n",
       "      <td>3.300253</td>\n",
       "      <td>1.445638</td>\n",
       "    </tr>\n",
       "    <tr>\n",
       "      <th>2-Storey</th>\n",
       "      <td>1.557113e+06</td>\n",
       "      <td>1.629456e+06</td>\n",
       "      <td>3.409333</td>\n",
       "      <td>0.704535</td>\n",
       "      <td>3.262191</td>\n",
       "      <td>1.114852</td>\n",
       "    </tr>\n",
       "    <tr>\n",
       "      <th>3-Storey</th>\n",
       "      <td>1.802330e+06</td>\n",
       "      <td>1.854262e+06</td>\n",
       "      <td>3.727711</td>\n",
       "      <td>0.617212</td>\n",
       "      <td>3.731842</td>\n",
       "      <td>1.245095</td>\n",
       "    </tr>\n",
       "    <tr>\n",
       "      <th>Backsplit</th>\n",
       "      <td>1.099051e+06</td>\n",
       "      <td>1.166243e+06</td>\n",
       "      <td>3.653515</td>\n",
       "      <td>0.729555</td>\n",
       "      <td>2.714491</td>\n",
       "      <td>1.121951</td>\n",
       "    </tr>\n",
       "    <tr>\n",
       "      <th>Backsplt-A...</th>\n",
       "      <td>1.250000e+06</td>\n",
       "      <td>1.205000e+06</td>\n",
       "      <td>3.000000</td>\n",
       "      <td>2.000000</td>\n",
       "      <td>3.000000</td>\n",
       "      <td>2.000000</td>\n",
       "    </tr>\n",
       "    <tr>\n",
       "      <th>Bungaloft</th>\n",
       "      <td>1.141496e+06</td>\n",
       "      <td>1.220307e+06</td>\n",
       "      <td>2.750000</td>\n",
       "      <td>1.166667</td>\n",
       "      <td>2.450000</td>\n",
       "      <td>1.133333</td>\n",
       "    </tr>\n",
       "    <tr>\n",
       "      <th>Bungalow</th>\n",
       "      <td>1.038265e+06</td>\n",
       "      <td>1.119971e+06</td>\n",
       "      <td>2.712601</td>\n",
       "      <td>1.199565</td>\n",
       "      <td>2.132526</td>\n",
       "      <td>1.082868</td>\n",
       "    </tr>\n",
       "    <tr>\n",
       "      <th>Bungalow-Raised</th>\n",
       "      <td>1.059974e+06</td>\n",
       "      <td>1.130534e+06</td>\n",
       "      <td>3.020591</td>\n",
       "      <td>1.153089</td>\n",
       "      <td>2.342883</td>\n",
       "      <td>1.126231</td>\n",
       "    </tr>\n",
       "    <tr>\n",
       "      <th>Multi-Level</th>\n",
       "      <td>1.688000e+06</td>\n",
       "      <td>2.030000e+06</td>\n",
       "      <td>3.000000</td>\n",
       "      <td>2.000000</td>\n",
       "      <td>3.000000</td>\n",
       "      <td>2.000000</td>\n",
       "    </tr>\n",
       "    <tr>\n",
       "      <th>Other</th>\n",
       "      <td>1.828769e+06</td>\n",
       "      <td>1.786648e+06</td>\n",
       "      <td>3.263158</td>\n",
       "      <td>0.631579</td>\n",
       "      <td>3.105263</td>\n",
       "      <td>1.157895</td>\n",
       "    </tr>\n",
       "    <tr>\n",
       "      <th>Sidesplit</th>\n",
       "      <td>1.328198e+06</td>\n",
       "      <td>1.402856e+06</td>\n",
       "      <td>3.513889</td>\n",
       "      <td>0.623737</td>\n",
       "      <td>2.765152</td>\n",
       "      <td>1.053030</td>\n",
       "    </tr>\n",
       "  </tbody>\n",
       "</table>\n",
       "</div>"
      ],
      "text/plain": [
       "                   list_price    sold_price        br        er        wr  \\\n",
       "style                                                                       \n",
       "1 1/2 Storey     1.130132e+06  1.201245e+06  2.936697  0.691743  2.296330   \n",
       "2 1/2 Storey     1.893841e+06  1.986681e+06  4.049305  0.662453  3.300253   \n",
       "2-Storey         1.557113e+06  1.629456e+06  3.409333  0.704535  3.262191   \n",
       "3-Storey         1.802330e+06  1.854262e+06  3.727711  0.617212  3.731842   \n",
       "Backsplit        1.099051e+06  1.166243e+06  3.653515  0.729555  2.714491   \n",
       "Backsplt-A...    1.250000e+06  1.205000e+06  3.000000  2.000000  3.000000   \n",
       "Bungaloft        1.141496e+06  1.220307e+06  2.750000  1.166667  2.450000   \n",
       "Bungalow         1.038265e+06  1.119971e+06  2.712601  1.199565  2.132526   \n",
       "Bungalow-Raised  1.059974e+06  1.130534e+06  3.020591  1.153089  2.342883   \n",
       "Multi-Level      1.688000e+06  2.030000e+06  3.000000  2.000000  3.000000   \n",
       "Other            1.828769e+06  1.786648e+06  3.263158  0.631579  3.105263   \n",
       "Sidesplit        1.328198e+06  1.402856e+06  3.513889  0.623737  2.765152   \n",
       "\n",
       "                  kitchen  \n",
       "style                      \n",
       "1 1/2 Storey     1.064220  \n",
       "2 1/2 Storey     1.445638  \n",
       "2-Storey         1.114852  \n",
       "3-Storey         1.245095  \n",
       "Backsplit        1.121951  \n",
       "Backsplt-A...    2.000000  \n",
       "Bungaloft        1.133333  \n",
       "Bungalow         1.082868  \n",
       "Bungalow-Raised  1.126231  \n",
       "Multi-Level      2.000000  \n",
       "Other            1.157895  \n",
       "Sidesplit        1.053030  "
      ]
     },
     "execution_count": 40,
     "metadata": {},
     "output_type": "execute_result"
    }
   ],
   "source": [
    "#Print X2\n",
    "x2"
   ]
  },
  {
   "cell_type": "code",
   "execution_count": 41,
   "id": "297d96e2",
   "metadata": {},
   "outputs": [
    {
     "data": {
      "text/plain": [
       "sold_price    1.000000\n",
       "list_price    0.984773\n",
       "wr            0.598249\n",
       "br            0.395104\n",
       "er            0.049102\n",
       "kitchen       0.048520\n",
       "lng           0.006346\n",
       "lat          -0.005482\n",
       "Name: sold_price, dtype: float64"
      ]
     },
     "execution_count": 41,
     "metadata": {},
     "output_type": "execute_result"
    }
   ],
   "source": [
    "# check correlation\n",
    "df_dbase.corr()['sold_price'].sort_values(ascending=False)"
   ]
  },
  {
   "cell_type": "code",
   "execution_count": 42,
   "id": "dc4b40c4",
   "metadata": {},
   "outputs": [
    {
     "data": {
      "text/plain": [
       "<AxesSubplot:xlabel='sold_price', ylabel='kitchen'>"
      ]
     },
     "execution_count": 42,
     "metadata": {},
     "output_type": "execute_result"
    },
    {
     "data": {
      "image/png": "[encoded data removed]",
      "text/plain": [
       "<Figure size 1080x504 with 4 Axes>"
      ]
     },
     "metadata": {
      "needs_background": "light"
     },
     "output_type": "display_data"
    }
   ],
   "source": [
    "## numeric features with higher correlation\n",
    "fig =plt.figure(figsize=(15,7))\n",
    "fig.add_subplot(2,2,1)\n",
    "sns.scatterplot(x='sold_price',y='wr',data=df_dbase)\n",
    "fig.add_subplot(2,2,2)\n",
    "sns.scatterplot(x='sold_price',y='br',data=df_dbase)\n",
    "fig.add_subplot(2,2,3)\n",
    "sns.scatterplot(x='sold_price',y='er',data=df_dbase)\n",
    "fig.add_subplot(2,2,4)\n",
    "sns.scatterplot(x='sold_price',y='kitchen',data=df_dbase)"
   ]
  },
  {
   "cell_type": "code",
   "execution_count": 43,
   "id": "9e969b69",
   "metadata": {},
   "outputs": [
    {
     "data": {
      "text/plain": [
       "count    30718.000000\n",
       "mean        43.710383\n",
       "std          0.506471\n",
       "min        -37.817468\n",
       "25%         43.672097\n",
       "50%         43.702479\n",
       "75%         43.753068\n",
       "max         64.630916\n",
       "Name: lat, dtype: float64"
      ]
     },
     "execution_count": 43,
     "metadata": {},
     "output_type": "execute_result"
    }
   ],
   "source": [
    "#Checking and describing lat\n",
    "df_dbase['lat'].describe()"
   ]
  },
  {
   "cell_type": "code",
   "execution_count": 44,
   "id": "fc23d74b",
   "metadata": {},
   "outputs": [
    {
     "data": {
      "text/plain": [
       "count    30718.000000\n",
       "mean       -79.358470\n",
       "std          1.848752\n",
       "min        -80.600331\n",
       "25%        -79.466836\n",
       "50%        -79.398206\n",
       "75%        -79.307248\n",
       "max        144.951680\n",
       "Name: lng, dtype: float64"
      ]
     },
     "execution_count": 44,
     "metadata": {},
     "output_type": "execute_result"
    }
   ],
   "source": [
    "#Checking and describing lng\n",
    "df_dbase['lng'].describe()"
   ]
  },
  {
   "cell_type": "code",
   "execution_count": null,
   "id": "9a87a52e",
   "metadata": {},
   "outputs": [],
   "source": []
  },
  {
   "cell_type": "code",
   "execution_count": null,
   "id": "b57c2725",
   "metadata": {},
   "outputs": [],
   "source": []
  },
  {
   "cell_type": "code",
   "execution_count": null,
   "id": "1b157464",
   "metadata": {},
   "outputs": [],
   "source": []
  },
  {
   "cell_type": "code",
   "execution_count": null,
   "id": "873f2c14",
   "metadata": {},
   "outputs": [],
   "source": []
  },
  {
   "cell_type": "code",
   "execution_count": null,
   "id": "2dc4e525",
   "metadata": {},
   "outputs": [],
   "source": []
  }
 ],
 "metadata": {
  "interpreter": {
   "hash": "7060c08087e99e4bb292598bba81c8b0abebfe118986c18abbe457e180366ff4"
  },
  "kernelspec": {
   "display_name": "Python 3.7.11 64-bit ('mlenv': conda)",
   "language": "python",
   "name": "python3711jvsc74a57bd086969af4118fd2beaee010b14a97d3c8fe7dc31ff55f1528eea7eaecb45368d6"
  },
  "language_info": {
   "codemirror_mode": {
    "name": "ipython",
    "version": 3
   },
   "file_extension": ".py",
   "mimetype": "text/x-python",
   "name": "python",
   "nbconvert_exporter": "python",
   "pygments_lexer": "ipython3",
   "version": "3.7.11"
  }
 },
 "nbformat": 4,
 "nbformat_minor": 5
}
